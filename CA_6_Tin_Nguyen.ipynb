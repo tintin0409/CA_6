{
  "nbformat": 4,
  "nbformat_minor": 0,
  "metadata": {
    "colab": {
      "name": "CA_6_Tin_Nguyen.ipynb",
      "provenance": [],
      "collapsed_sections": []
    },
    "kernelspec": {
      "name": "python3",
      "display_name": "Python 3"
    },
    "language_info": {
      "name": "python"
    }
  },
  "cells": [
    {
      "cell_type": "markdown",
      "metadata": {
        "id": "MeohWUicQPUz"
      },
      "source": [
        "**I. Access dataset**"
      ]
    },
    {
      "cell_type": "code",
      "metadata": {
        "id": "xtXRQk3HZVEb"
      },
      "source": [
        "import pandas as pd\n",
        "import numpy as np\n",
        "from sklearn.neighbors import NearestNeighbors"
      ],
      "execution_count": 114,
      "outputs": []
    },
    {
      "cell_type": "code",
      "metadata": {
        "id": "KSYv9CE0ZfeI"
      },
      "source": [
        "df = pd.read_csv('/content/drive/MyDrive/MSBA_Colab_2020/ML_Algorithms/movies_recommendation_data.csv')"
      ],
      "execution_count": 115,
      "outputs": []
    },
    {
      "cell_type": "code",
      "metadata": {
        "colab": {
          "base_uri": "https://localhost:8080/",
          "height": 204
        },
        "id": "7RgFZMOrZ-kh",
        "outputId": "61898030-5f67-4c83-fd4b-c8640f744fe7"
      },
      "source": [
        "df.head()"
      ],
      "execution_count": 116,
      "outputs": [
        {
          "output_type": "execute_result",
          "data": {
            "text/html": [
              "<div>\n",
              "<style scoped>\n",
              "    .dataframe tbody tr th:only-of-type {\n",
              "        vertical-align: middle;\n",
              "    }\n",
              "\n",
              "    .dataframe tbody tr th {\n",
              "        vertical-align: top;\n",
              "    }\n",
              "\n",
              "    .dataframe thead th {\n",
              "        text-align: right;\n",
              "    }\n",
              "</style>\n",
              "<table border=\"1\" class=\"dataframe\">\n",
              "  <thead>\n",
              "    <tr style=\"text-align: right;\">\n",
              "      <th></th>\n",
              "      <th>Movie ID</th>\n",
              "      <th>Movie Name</th>\n",
              "      <th>IMDB Rating</th>\n",
              "      <th>Biography</th>\n",
              "      <th>Drama</th>\n",
              "      <th>Thriller</th>\n",
              "      <th>Comedy</th>\n",
              "      <th>Crime</th>\n",
              "      <th>Mystery</th>\n",
              "      <th>History</th>\n",
              "      <th>Label</th>\n",
              "    </tr>\n",
              "  </thead>\n",
              "  <tbody>\n",
              "    <tr>\n",
              "      <th>0</th>\n",
              "      <td>58</td>\n",
              "      <td>The Imitation Game</td>\n",
              "      <td>8.0</td>\n",
              "      <td>1</td>\n",
              "      <td>1</td>\n",
              "      <td>1</td>\n",
              "      <td>0</td>\n",
              "      <td>0</td>\n",
              "      <td>0</td>\n",
              "      <td>0</td>\n",
              "      <td>0</td>\n",
              "    </tr>\n",
              "    <tr>\n",
              "      <th>1</th>\n",
              "      <td>8</td>\n",
              "      <td>Ex Machina</td>\n",
              "      <td>7.7</td>\n",
              "      <td>0</td>\n",
              "      <td>1</td>\n",
              "      <td>0</td>\n",
              "      <td>0</td>\n",
              "      <td>0</td>\n",
              "      <td>1</td>\n",
              "      <td>0</td>\n",
              "      <td>0</td>\n",
              "    </tr>\n",
              "    <tr>\n",
              "      <th>2</th>\n",
              "      <td>46</td>\n",
              "      <td>A Beautiful Mind</td>\n",
              "      <td>8.2</td>\n",
              "      <td>1</td>\n",
              "      <td>1</td>\n",
              "      <td>0</td>\n",
              "      <td>0</td>\n",
              "      <td>0</td>\n",
              "      <td>0</td>\n",
              "      <td>0</td>\n",
              "      <td>0</td>\n",
              "    </tr>\n",
              "    <tr>\n",
              "      <th>3</th>\n",
              "      <td>62</td>\n",
              "      <td>Good Will Hunting</td>\n",
              "      <td>8.3</td>\n",
              "      <td>0</td>\n",
              "      <td>1</td>\n",
              "      <td>0</td>\n",
              "      <td>0</td>\n",
              "      <td>0</td>\n",
              "      <td>0</td>\n",
              "      <td>0</td>\n",
              "      <td>0</td>\n",
              "    </tr>\n",
              "    <tr>\n",
              "      <th>4</th>\n",
              "      <td>97</td>\n",
              "      <td>Forrest Gump</td>\n",
              "      <td>8.8</td>\n",
              "      <td>0</td>\n",
              "      <td>1</td>\n",
              "      <td>0</td>\n",
              "      <td>0</td>\n",
              "      <td>0</td>\n",
              "      <td>0</td>\n",
              "      <td>0</td>\n",
              "      <td>0</td>\n",
              "    </tr>\n",
              "  </tbody>\n",
              "</table>\n",
              "</div>"
            ],
            "text/plain": [
              "   Movie ID          Movie Name  IMDB Rating  ...  Mystery  History  Label\n",
              "0        58  The Imitation Game          8.0  ...        0        0      0\n",
              "1         8          Ex Machina          7.7  ...        1        0      0\n",
              "2        46    A Beautiful Mind          8.2  ...        0        0      0\n",
              "3        62   Good Will Hunting          8.3  ...        0        0      0\n",
              "4        97        Forrest Gump          8.8  ...        0        0      0\n",
              "\n",
              "[5 rows x 11 columns]"
            ]
          },
          "metadata": {
            "tags": []
          },
          "execution_count": 116
        }
      ]
    },
    {
      "cell_type": "code",
      "metadata": {
        "colab": {
          "base_uri": "https://localhost:8080/"
        },
        "id": "_38bkT2LaElh",
        "outputId": "bc5733d5-00e6-4d25-90df-77baf09eb297"
      },
      "source": [
        "df.info()"
      ],
      "execution_count": 117,
      "outputs": [
        {
          "output_type": "stream",
          "text": [
            "<class 'pandas.core.frame.DataFrame'>\n",
            "RangeIndex: 30 entries, 0 to 29\n",
            "Data columns (total 11 columns):\n",
            " #   Column       Non-Null Count  Dtype  \n",
            "---  ------       --------------  -----  \n",
            " 0   Movie ID     30 non-null     int64  \n",
            " 1   Movie Name   30 non-null     object \n",
            " 2   IMDB Rating  30 non-null     float64\n",
            " 3   Biography    30 non-null     int64  \n",
            " 4   Drama        30 non-null     int64  \n",
            " 5   Thriller     30 non-null     int64  \n",
            " 6   Comedy       30 non-null     int64  \n",
            " 7   Crime        30 non-null     int64  \n",
            " 8   Mystery      30 non-null     int64  \n",
            " 9   History      30 non-null     int64  \n",
            " 10  Label        30 non-null     int64  \n",
            "dtypes: float64(1), int64(9), object(1)\n",
            "memory usage: 2.7+ KB\n"
          ],
          "name": "stdout"
        }
      ]
    },
    {
      "cell_type": "markdown",
      "metadata": {
        "id": "AZF1siowQhH3"
      },
      "source": [
        "**II. Split the data to y and x**"
      ]
    },
    {
      "cell_type": "code",
      "metadata": {
        "id": "0wkWyjlZaIja"
      },
      "source": [
        "df.drop(columns=['Label','Movie ID'], inplace= True)"
      ],
      "execution_count": 118,
      "outputs": []
    },
    {
      "cell_type": "code",
      "metadata": {
        "id": "LLkMXyQUekKb"
      },
      "source": [
        "x = df.iloc[:, 1:].values\n",
        "y = df.iloc[:, 0].values"
      ],
      "execution_count": 119,
      "outputs": []
    },
    {
      "cell_type": "markdown",
      "metadata": {
        "id": "Vjre421UQsV9"
      },
      "source": [
        "**III. Set up the Method for Nearest Neighbor model**"
      ]
    },
    {
      "cell_type": "code",
      "metadata": {
        "colab": {
          "base_uri": "https://localhost:8080/"
        },
        "id": "JMFQWe1UWBrI",
        "outputId": "b946ba15-79fa-4653-c09f-fcb6a1aae9f6"
      },
      "source": [
        "neigh = model_knn = NearestNeighbors(algorithm='auto', leaf_size=30, metric='minkowski', metric_params=None, n_jobs=None, n_neighbors=5, p=2)\n",
        "neigh.fit(x,y)"
      ],
      "execution_count": 120,
      "outputs": [
        {
          "output_type": "execute_result",
          "data": {
            "text/plain": [
              "NearestNeighbors(algorithm='auto', leaf_size=30, metric='minkowski',\n",
              "                 metric_params=None, n_jobs=None, n_neighbors=5, p=2,\n",
              "                 radius=1.0)"
            ]
          },
          "metadata": {
            "tags": []
          },
          "execution_count": 120
        }
      ]
    },
    {
      "cell_type": "markdown",
      "metadata": {
        "id": "R_ASdEYVRjdb"
      },
      "source": [
        "**IV. Apply the values and check the prediction**"
      ]
    },
    {
      "cell_type": "code",
      "metadata": {
        "colab": {
          "base_uri": "https://localhost:8080/"
        },
        "id": "JI51iYo-GFPF",
        "outputId": "eba041ef-c2f2-493b-ffdf-7f653ff276ba"
      },
      "source": [
        "prediction = (neigh.kneighbors([[7.2,1,1,0,0,0,0,1]], return_distance=False))\n",
        "prediction"
      ],
      "execution_count": 121,
      "outputs": [
        {
          "output_type": "execute_result",
          "data": {
            "text/plain": [
              "array([[28, 27, 29, 16,  2]])"
            ]
          },
          "metadata": {
            "tags": []
          },
          "execution_count": 121
        }
      ]
    },
    {
      "cell_type": "code",
      "metadata": {
        "colab": {
          "base_uri": "https://localhost:8080/"
        },
        "id": "wtgE0XaIOE2q",
        "outputId": "81fde37c-b1dd-47a7-8536-17e0b4ba9c98"
      },
      "source": [
        "for movies in prediction:\n",
        "  print(df.iloc[movies]['Movie Name'])"
      ],
      "execution_count": 122,
      "outputs": [
        {
          "output_type": "stream",
          "text": [
            "28    12 Years a Slave\n",
            "27       Hacksaw Ridge\n",
            "29      Queen of Katwe\n",
            "16      The Wind Rises\n",
            "2     A Beautiful Mind\n",
            "Name: Movie Name, dtype: object\n"
          ],
          "name": "stdout"
        }
      ]
    }
  ]
}